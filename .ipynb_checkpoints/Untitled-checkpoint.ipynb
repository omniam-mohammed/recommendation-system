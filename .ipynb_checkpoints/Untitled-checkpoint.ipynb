{
 "cells": [
  {
   "cell_type": "code",
   "execution_count": 4,
   "id": "96a50c46-a27a-459a-8056-a6c7c07809e5",
   "metadata": {},
   "outputs": [
    {
     "name": "stderr",
     "output_type": "stream",
     "text": [
      "INFO: Could not find files for the given pattern(s).\n"
     ]
    }
   ],
   "source": [
    "!where node\n"
   ]
  },
  {
   "cell_type": "code",
   "execution_count": 1,
   "id": "fc75caf7-6d1f-4e24-88d8-091765ca2d1f",
   "metadata": {},
   "outputs": [
    {
     "name": "stdout",
     "output_type": "stream",
     "text": [
      "Collecting flask\n",
      "  Downloading flask-3.1.0-py3-none-any.whl.metadata (2.7 kB)\n",
      "Collecting Werkzeug>=3.1 (from flask)\n",
      "  Using cached werkzeug-3.1.3-py3-none-any.whl.metadata (3.7 kB)\n",
      "Requirement already satisfied: Jinja2>=3.1.2 in c:\\users\\mega2\\anaconda3\\envs\\new\\lib\\site-packages (from flask) (3.1.2)\n",
      "Collecting itsdangerous>=2.2 (from flask)\n",
      "  Downloading itsdangerous-2.2.0-py3-none-any.whl.metadata (1.9 kB)\n",
      "Requirement already satisfied: click>=8.1.3 in c:\\users\\mega2\\anaconda3\\envs\\new\\lib\\site-packages (from flask) (8.1.7)\n",
      "Collecting blinker>=1.9 (from flask)\n",
      "  Downloading blinker-1.9.0-py3-none-any.whl.metadata (1.6 kB)\n",
      "Requirement already satisfied: importlib-metadata>=3.6 in c:\\users\\mega2\\anaconda3\\envs\\new\\lib\\site-packages (from flask) (6.0.0)\n",
      "Requirement already satisfied: colorama in c:\\users\\mega2\\anaconda3\\envs\\new\\lib\\site-packages (from click>=8.1.3->flask) (0.4.6)\n",
      "Requirement already satisfied: zipp>=0.5 in c:\\users\\mega2\\anaconda3\\envs\\new\\lib\\site-packages (from importlib-metadata>=3.6->flask) (3.16.2)\n",
      "Requirement already satisfied: MarkupSafe>=2.0 in c:\\users\\mega2\\anaconda3\\envs\\new\\lib\\site-packages (from Jinja2>=3.1.2->flask) (2.1.1)\n",
      "Downloading flask-3.1.0-py3-none-any.whl (102 kB)\n",
      "Downloading blinker-1.9.0-py3-none-any.whl (8.5 kB)\n",
      "Downloading itsdangerous-2.2.0-py3-none-any.whl (16 kB)\n",
      "Using cached werkzeug-3.1.3-py3-none-any.whl (224 kB)\n",
      "Installing collected packages: Werkzeug, itsdangerous, blinker, flask\n",
      "  Attempting uninstall: Werkzeug\n",
      "    Found existing installation: Werkzeug 2.1.2\n",
      "    Uninstalling Werkzeug-2.1.2:\n",
      "      Successfully uninstalled Werkzeug-2.1.2\n",
      "  Attempting uninstall: blinker\n",
      "    Found existing installation: blinker 1.6.2\n",
      "    Uninstalling blinker-1.6.2:\n",
      "      Successfully uninstalled blinker-1.6.2\n",
      "Successfully installed Werkzeug-3.1.3 blinker-1.9.0 flask-3.1.0 itsdangerous-2.2.0\n"
     ]
    },
    {
     "name": "stderr",
     "output_type": "stream",
     "text": [
      "\n",
      "[notice] A new release of pip is available: 25.0 -> 25.0.1\n",
      "[notice] To update, run: python.exe -m pip install --upgrade pip\n",
      "'npm' is not recognized as an internal or external command,\n",
      "operable program or batch file.\n"
     ]
    }
   ],
   "source": [
    "!pip install flask\n",
    "!npm install -g vercel\n"
   ]
  },
  {
   "cell_type": "code",
   "execution_count": 2,
   "id": "f1cfad3c-5efd-4cf9-b1db-2c195f3b7000",
   "metadata": {},
   "outputs": [
    {
     "name": "stdout",
     "output_type": "stream",
     "text": [
      "✅ تم إنشاء ملف app.py\n"
     ]
    }
   ],
   "source": [
    "code = \"\"\"from flask import Flask\n",
    "\n",
    "app = Flask(__name__)\n",
    "\n",
    "@app.route(\"/\")\n",
    "def home():\n",
    "    return \"Hello, Vercel!\"\n",
    "\n",
    "if __name__ == \"__main__\":\n",
    "    app.run()\n",
    "\"\"\"\n",
    "\n",
    "with open(\"app.py\", \"w\") as f:\n",
    "    f.write(code)\n",
    "\n",
    "print(\"✅ تم إنشاء ملف app.py\")\n"
   ]
  },
  {
   "cell_type": "code",
   "execution_count": 3,
   "id": "d1dd7cbd-33ca-400f-81df-6bcc998bd4d1",
   "metadata": {},
   "outputs": [
    {
     "name": "stdout",
     "output_type": "stream",
     "text": [
      "✅ تم إنشاء ملف requirements.txt\n"
     ]
    }
   ],
   "source": [
    "!pip freeze > requirements.txt\n",
    "print(\"✅ تم إنشاء ملف requirements.txt\")\n"
   ]
  },
  {
   "cell_type": "code",
   "execution_count": 4,
   "id": "aab016c8-56a8-45e5-9796-aa5e68dad288",
   "metadata": {},
   "outputs": [
    {
     "name": "stderr",
     "output_type": "stream",
     "text": [
      "'vercel' is not recognized as an internal or external command,\n",
      "operable program or batch file.\n"
     ]
    }
   ],
   "source": [
    "!vercel login\n"
   ]
  },
  {
   "cell_type": "code",
   "execution_count": 5,
   "id": "efe5e234-fefc-4241-88f7-7ab084b03dbd",
   "metadata": {},
   "outputs": [
    {
     "name": "stderr",
     "output_type": "stream",
     "text": [
      "'npm' is not recognized as an internal or external command,\n",
      "operable program or batch file.\n"
     ]
    }
   ],
   "source": [
    "!npm -v\n"
   ]
  },
  {
   "cell_type": "code",
   "execution_count": 1,
   "id": "98d9dd5d-e3a3-4585-8579-517f8c930121",
   "metadata": {},
   "outputs": [
    {
     "name": "stderr",
     "output_type": "stream",
     "text": [
      "'npm' is not recognized as an internal or external command,\n",
      "operable program or batch file.\n"
     ]
    }
   ],
   "source": [
    "!npm install -g vercel\n"
   ]
  },
  {
   "cell_type": "code",
   "execution_count": 2,
   "id": "39552c67-9234-4d32-9859-46a79abb427c",
   "metadata": {},
   "outputs": [
    {
     "name": "stderr",
     "output_type": "stream",
     "text": [
      "'node' is not recognized as an internal or external command,\n",
      "operable program or batch file.\n"
     ]
    }
   ],
   "source": [
    "!node -v\n"
   ]
  },
  {
   "cell_type": "code",
   "execution_count": null,
   "id": "c1332cdb-a07d-4df4-b989-4114ae13bf66",
   "metadata": {},
   "outputs": [],
   "source": []
  }
 ],
 "metadata": {
  "kernelspec": {
   "display_name": "Python 3 (ipykernel)",
   "language": "python",
   "name": "python3"
  },
  "language_info": {
   "codemirror_mode": {
    "name": "ipython",
    "version": 3
   },
   "file_extension": ".py",
   "mimetype": "text/x-python",
   "name": "python",
   "nbconvert_exporter": "python",
   "pygments_lexer": "ipython3",
   "version": "3.9.17"
  }
 },
 "nbformat": 4,
 "nbformat_minor": 5
}
