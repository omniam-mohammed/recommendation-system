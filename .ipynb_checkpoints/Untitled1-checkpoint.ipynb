{
 "cells": [
  {
   "cell_type": "code",
   "execution_count": 1,
   "id": "956626a2-5200-4508-88a1-3c5824c792d9",
   "metadata": {},
   "outputs": [
    {
     "name": "stdout",
     "output_type": "stream",
     "text": [
      "تم إنشاء أو تعديل ملف vercel.json\n"
     ]
    }
   ],
   "source": [
    "import json\n",
    "\n",
    "# محتوى ملف vercel.json\n",
    "data = {\n",
    "    \"version\": 2,\n",
    "    \"builds\": [\n",
    "        {\n",
    "            \"src\": \"jobs.py\",\n",
    "            \"use\": \"@vercel/python\"\n",
    "        }\n",
    "    ],\n",
    "    \"routes\": [\n",
    "        {\n",
    "            \"src\": \"/(.*)\",\n",
    "            \"dest\": \"/jobs.py\"\n",
    "        }\n",
    "    ]\n",
    "}\n",
    "\n",
    "# إنشاء أو تحرير ملف vercel.json\n",
    "with open('vercel.json', 'w') as f:\n",
    "    json.dump(data, f, indent=4)\n",
    "\n",
    "print(\"تم إنشاء أو تعديل ملف vercel.json\")\n"
   ]
  },
  {
   "cell_type": "code",
   "execution_count": 2,
   "id": "0e89c364-89ed-47ae-a409-848d263ed8c2",
   "metadata": {},
   "outputs": [
    {
     "name": "stdout",
     "output_type": "stream",
     "text": [
      "{\n",
      "    \"version\": 2,\n",
      "    \"builds\": [\n",
      "        {\n",
      "            \"src\": \"app.py\",\n",
      "            \"use\": \"@vercel/python\"\n",
      "        }\n",
      "    ],\n",
      "    \"routes\": [\n",
      "        {\n",
      "            \"src\": \"/(.*)\",\n",
      "            \"dest\": \"/app.py\"\n",
      "        }\n",
      "    ]\n",
      "}\n"
     ]
    }
   ],
   "source": [
    "# التحقق من محتويات الملف\n",
    "with open('vercel.json', 'r') as f:\n",
    "    print(f.read())\n"
   ]
  },
  {
   "cell_type": "code",
   "execution_count": null,
   "id": "2c0a99c9-3918-4cd8-b0fa-7b224f9eac74",
   "metadata": {},
   "outputs": [],
   "source": []
  }
 ],
 "metadata": {
  "kernelspec": {
   "display_name": "Python 3 (ipykernel)",
   "language": "python",
   "name": "python3"
  },
  "language_info": {
   "codemirror_mode": {
    "name": "ipython",
    "version": 3
   },
   "file_extension": ".py",
   "mimetype": "text/x-python",
   "name": "python",
   "nbconvert_exporter": "python",
   "pygments_lexer": "ipython3",
   "version": "3.9.17"
  }
 },
 "nbformat": 4,
 "nbformat_minor": 5
}
