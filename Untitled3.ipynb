{
 "cells": [
  {
   "cell_type": "code",
   "execution_count": null,
   "id": "540d2e18-efe9-4b1e-a3b1-d4ef914b029b",
   "metadata": {},
   "outputs": [],
   "source": []
  },
  {
   "cell_type": "code",
   "execution_count": null,
   "id": "0470215c-4c9c-46aa-9ec6-8ec7e32b92ac",
   "metadata": {},
   "outputs": [],
   "source": []
  },
  {
   "cell_type": "code",
   "execution_count": null,
   "id": "c948f82b-90c1-4191-80d6-8cbd1bd35ddf",
   "metadata": {},
   "outputs": [],
   "source": []
  },
  {
   "cell_type": "code",
   "execution_count": null,
   "id": "81c1f467-d304-4bbb-93b9-9da07c422a93",
   "metadata": {},
   "outputs": [],
   "source": []
  },
  {
   "cell_type": "code",
   "execution_count": null,
   "id": "2993fda7-2cbd-4799-85cf-37c3ff2f0f43",
   "metadata": {},
   "outputs": [],
   "source": []
  },
  {
   "cell_type": "code",
   "execution_count": 2,
   "id": "cc6e0d5e-eec4-4fab-9fbd-90578d1dbbe0",
   "metadata": {},
   "outputs": [
    {
     "ename": "NameError",
     "evalue": "name 'scaler' is not defined",
     "output_type": "error",
     "traceback": [
      "\u001b[1;31m---------------------------------------------------------------------------\u001b[0m",
      "\u001b[1;31mNameError\u001b[0m                                 Traceback (most recent call last)",
      "Cell \u001b[1;32mIn[2], line 6\u001b[0m\n\u001b[0;32m      4\u001b[0m \u001b[38;5;28;01mif\u001b[39;00m \u001b[38;5;129;01mnot\u001b[39;00m os\u001b[38;5;241m.\u001b[39mpath\u001b[38;5;241m.\u001b[39mexists(\u001b[38;5;124m'\u001b[39m\u001b[38;5;124mModels\u001b[39m\u001b[38;5;124m'\u001b[39m):\n\u001b[0;32m      5\u001b[0m     os\u001b[38;5;241m.\u001b[39mmakedirs(\u001b[38;5;124m'\u001b[39m\u001b[38;5;124mModels\u001b[39m\u001b[38;5;124m'\u001b[39m)\n\u001b[1;32m----> 6\u001b[0m pickle\u001b[38;5;241m.\u001b[39mdump(\u001b[43mscaler\u001b[49m, \u001b[38;5;28mopen\u001b[39m(\u001b[38;5;124m\"\u001b[39m\u001b[38;5;124mModels/scaler.pkl\u001b[39m\u001b[38;5;124m\"\u001b[39m, \u001b[38;5;124m'\u001b[39m\u001b[38;5;124mwb\u001b[39m\u001b[38;5;124m'\u001b[39m))\n\u001b[0;32m      7\u001b[0m pickle\u001b[38;5;241m.\u001b[39mdump(model, \u001b[38;5;28mopen\u001b[39m(\u001b[38;5;124m\"\u001b[39m\u001b[38;5;124mModels/model.pkl\u001b[39m\u001b[38;5;124m\"\u001b[39m, \u001b[38;5;124m'\u001b[39m\u001b[38;5;124mwb\u001b[39m\u001b[38;5;124m'\u001b[39m))\n",
      "\u001b[1;31mNameError\u001b[0m: name 'scaler' is not defined"
     ]
    }
   ],
   "source": [
    "import os\n",
    "import pickle\n",
    "\n",
    "if not os.path.exists('Models'):\n",
    "    os.makedirs('Models')\n",
    "pickle.dump(scaler, open(\"Models/scaler.pkl\", 'wb'))\n",
    "pickle.dump(model, open(\"Models/model.pkl\", 'wb'))"
   ]
  },
  {
   "cell_type": "code",
   "execution_count": 3,
   "id": "21f79004-ac9c-47b5-bc79-fee2ef30e66a",
   "metadata": {},
   "outputs": [
    {
     "ename": "FileNotFoundError",
     "evalue": "[Errno 2] No such file or directory: 'Models/scaler.pkl'",
     "output_type": "error",
     "traceback": [
      "\u001b[1;31m---------------------------------------------------------------------------\u001b[0m",
      "\u001b[1;31mFileNotFoundError\u001b[0m                         Traceback (most recent call last)",
      "Cell \u001b[1;32mIn[3], line 10\u001b[0m\n\u001b[0;32m      7\u001b[0m \u001b[38;5;28;01mfrom\u001b[39;00m \u001b[38;5;21;01mtyping\u001b[39;00m \u001b[38;5;28;01mimport\u001b[39;00m Dict\n\u001b[0;32m      9\u001b[0m \u001b[38;5;66;03m# تحميل النماذج\u001b[39;00m\n\u001b[1;32m---> 10\u001b[0m scaler \u001b[38;5;241m=\u001b[39m pickle\u001b[38;5;241m.\u001b[39mload(\u001b[38;5;28;43mopen\u001b[39;49m\u001b[43m(\u001b[49m\u001b[38;5;124;43m\"\u001b[39;49m\u001b[38;5;124;43mModels/scaler.pkl\u001b[39;49m\u001b[38;5;124;43m\"\u001b[39;49m\u001b[43m,\u001b[49m\u001b[43m \u001b[49m\u001b[38;5;124;43m'\u001b[39;49m\u001b[38;5;124;43mrb\u001b[39;49m\u001b[38;5;124;43m'\u001b[39;49m\u001b[43m)\u001b[49m)\n\u001b[0;32m     11\u001b[0m model \u001b[38;5;241m=\u001b[39m pickle\u001b[38;5;241m.\u001b[39mload(\u001b[38;5;28mopen\u001b[39m(\u001b[38;5;124m\"\u001b[39m\u001b[38;5;124mModels/model.pkl\u001b[39m\u001b[38;5;124m\"\u001b[39m, \u001b[38;5;124m'\u001b[39m\u001b[38;5;124mrb\u001b[39m\u001b[38;5;124m'\u001b[39m))\n\u001b[0;32m     13\u001b[0m \u001b[38;5;66;03m# أسماء الفئات\u001b[39;00m\n",
      "File \u001b[1;32m~\\anaconda3\\envs\\new\\lib\\site-packages\\IPython\\core\\interactiveshell.py:284\u001b[0m, in \u001b[0;36m_modified_open\u001b[1;34m(file, *args, **kwargs)\u001b[0m\n\u001b[0;32m    277\u001b[0m \u001b[38;5;28;01mif\u001b[39;00m file \u001b[38;5;129;01min\u001b[39;00m {\u001b[38;5;241m0\u001b[39m, \u001b[38;5;241m1\u001b[39m, \u001b[38;5;241m2\u001b[39m}:\n\u001b[0;32m    278\u001b[0m     \u001b[38;5;28;01mraise\u001b[39;00m \u001b[38;5;167;01mValueError\u001b[39;00m(\n\u001b[0;32m    279\u001b[0m         \u001b[38;5;124mf\u001b[39m\u001b[38;5;124m\"\u001b[39m\u001b[38;5;124mIPython won\u001b[39m\u001b[38;5;124m'\u001b[39m\u001b[38;5;124mt let you open fd=\u001b[39m\u001b[38;5;132;01m{\u001b[39;00mfile\u001b[38;5;132;01m}\u001b[39;00m\u001b[38;5;124m by default \u001b[39m\u001b[38;5;124m\"\u001b[39m\n\u001b[0;32m    280\u001b[0m         \u001b[38;5;124m\"\u001b[39m\u001b[38;5;124mas it is likely to crash IPython. If you know what you are doing, \u001b[39m\u001b[38;5;124m\"\u001b[39m\n\u001b[0;32m    281\u001b[0m         \u001b[38;5;124m\"\u001b[39m\u001b[38;5;124myou can use builtins\u001b[39m\u001b[38;5;124m'\u001b[39m\u001b[38;5;124m open.\u001b[39m\u001b[38;5;124m\"\u001b[39m\n\u001b[0;32m    282\u001b[0m     )\n\u001b[1;32m--> 284\u001b[0m \u001b[38;5;28;01mreturn\u001b[39;00m io_open(file, \u001b[38;5;241m*\u001b[39margs, \u001b[38;5;241m*\u001b[39m\u001b[38;5;241m*\u001b[39mkwargs)\n",
      "\u001b[1;31mFileNotFoundError\u001b[0m: [Errno 2] No such file or directory: 'Models/scaler.pkl'"
     ]
    }
   ],
   "source": [
    "from fastapi import FastAPI, Request, HTTPException\n",
    "from fastapi.responses import JSONResponse\n",
    "from pydantic import BaseModel\n",
    "import uvicorn\n",
    "import pickle\n",
    "import numpy as np\n",
    "from typing import Dict\n",
    "\n",
    "# تحميل النماذج\n",
    "scaler = pickle.load(open(\"Models/scaler.pkl\", 'rb'))\n",
    "model = pickle.load(open(\"Models/model.pkl\", 'rb'))\n",
    "\n",
    "# أسماء الفئات\n",
    "class_names = [\n",
    "    'Database Administrator', 'Hardware Engineer', 'Application Support Engineer', 'Cyber Security Specialist',\n",
    "    'Networking Engineer', 'Software Developer', 'API Specialist', 'Project Manager', 'Information Security Specialist',\n",
    "    'Technical Writer', 'AI ML Specialist', 'Software tester', 'Business Analyst', 'Customer Service Executive',\n",
    "    'Data Scientist', 'Helpdesk Engineer', 'Graphics Designer'\n",
    "]\n",
    "\n",
    "app = FastAPI()\n",
    "\n",
    "# جلسة لحفظ إجابات المستخدم\n",
    "user_sessions: Dict[str, Dict] = {}\n",
    "\n",
    "# نموذج الإدخال\n",
    "class UserInput(BaseModel):\n",
    "    answer: str\n",
    "\n",
    "# تعيين القيم للإجابات\n",
    "def map_experience(value):\n",
    "    mapping = {\"Excellent\": 3, \"Average\": 2, \"Beginner\": 1, \"Not Interested\": 0}\n",
    "    return mapping.get(value, 0)\n",
    "\n",
    "# قائمة الأسئلة\n",
    "questions = [\n",
    "    \"personal_interests\",\n",
    "    \"Computer_Architecture\",\n",
    "    \"Leadership_Experience\",\n",
    "    \"Cyber_Security\",\n",
    "    \"Networking\",\n",
    "    \"Software_Development\",\n",
    "    \"Programming_Skills\",\n",
    "    \"Project_Management\",\n",
    "    \"Computer_Forensics_Fundamentals\",\n",
    "    \"Technical_Communication\",\n",
    "    \"AI_ML\",\n",
    "    \"Software_Engineering\",\n",
    "    \"Business_Analysis\",\n",
    "    \"Communication_Skills\",\n",
    "    \"Data_Science\",\n",
    "    \"Troubleshooting_Skills\",\n",
    "    \"Graphics_Designing\"\n",
    "]\n",
    "\n",
    "# صفحة البداية\n",
    "@app.get(\"/\")\n",
    "def read_root():\n",
    "    return JSONResponse(content={\"message\": \"Welcome to the recommendation API! Use POST /start to begin.\"})\n",
    "\n",
    "# بدء الجلسة\n",
    "@app.post(\"/start\")\n",
    "def start_session(request: Request):\n",
    "    session_id = request.client.host  # استخدام عنوان IP العميل كمعرف للجلسة\n",
    "    user_sessions[session_id] = {\"current_question\": 0, \"answers\": []}\n",
    "    return {\"message\": \"Session started\", \"question\": questions[0]}\n",
    "\n",
    "# إجابة المستخدم\n",
    "@app.post(\"/answer\")\n",
    "def answer_question(request: Request, user_input: UserInput):\n",
    "    session_id = request.client.host\n",
    "    if session_id not in user_sessions:\n",
    "        raise HTTPException(status_code=400, detail=\"Session not found. Please start a session first.\")\n",
    "\n",
    "    current_session = user_sessions[session_id]\n",
    "    current_question_index = current_session[\"current_question\"]\n",
    "\n",
    "    # التحقق من صحة الإجابة\n",
    "    if user_input.answer not in [\"Excellent\", \"Average\", \"Beginner\", \"Not Interested\"]:\n",
    "        return {\"error\": \"Invalid answer. Please choose from: Excellent, Average, Beginner, Not Interested.\"}\n",
    "\n",
    "    # حفظ الإجابة\n",
    "    current_session[\"answers\"].append(map_experience(user_input.answer))\n",
    "\n",
    "    # الانتقال إلى السؤال التالي\n",
    "    current_session[\"current_question\"] += 1\n",
    "\n",
    "    if current_session[\"current_question\"] < len(questions):\n",
    "        return {\"message\": \"Next question\", \"question\": questions[current_session[\"current_question\"]]}\n",
    "    else:\n",
    "        # إذا تمت الإجابة على جميع الأسئلة\n",
    "        feature_array = np.array([current_session[\"answers\"]])\n",
    "        scaled_features = scaler.transform(feature_array)\n",
    "        probabilities = model.predict_proba(scaled_features)\n",
    "        top_classes_idx = np.argsort(-probabilities[0])[:3]\n",
    "        recommendations = [{\"job\": class_names[idx], \"accuracy\": float(probabilities[0][idx])} for idx in top_classes_idx]\n",
    "\n",
    "        # حذف الجلسة بعد الانتهاء\n",
    "        del user_sessions[session_id]\n",
    "\n",
    "        return {\"recommendations\": recommendations}\n",
    "\n",
    "if __name__ == \"__main__\":\n",
    "    uvicorn.run(app, host=\"127.0.0.1\", port=8000)"
   ]
  },
  {
   "cell_type": "code",
   "execution_count": null,
   "id": "ccba0952-e40b-4fa8-b8e1-bf7fd361a1bc",
   "metadata": {},
   "outputs": [],
   "source": []
  }
 ],
 "metadata": {
  "kernelspec": {
   "display_name": "Python 3 (ipykernel)",
   "language": "python",
   "name": "python3"
  },
  "language_info": {
   "codemirror_mode": {
    "name": "ipython",
    "version": 3
   },
   "file_extension": ".py",
   "mimetype": "text/x-python",
   "name": "python",
   "nbconvert_exporter": "python",
   "pygments_lexer": "ipython3",
   "version": "3.9.17"
  }
 },
 "nbformat": 4,
 "nbformat_minor": 5
}
